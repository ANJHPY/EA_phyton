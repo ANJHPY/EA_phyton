{
 "cells": [
  {
   "cell_type": "markdown",
   "id": "1470c462",
   "metadata": {},
   "source": [
    "<img src=https://www.certus.edu.pe/wp-content/uploads/2018/12/certus-logo-1-01-copy-3@2x.png>\n",
    "\n",
    "# Sesión 3 - Fundamentos de Python\n",
    "\n",
    "Jueves 20/10/2022"
   ]
  },
  {
   "cell_type": "markdown",
   "id": "0ac3be34",
   "metadata": {},
   "source": [
    "### Conda\n",
    "\n",
    "* Enlace de Conda: [Introduction to Conda](https://geohackweek.github.io/Introductory/01-conda-tutorial/)\n",
    "\n",
    "### Contenido\n",
    "\n",
    "* [Variables y constantes](#variables)\n",
    "* [Estructuras de control](#estructura)\n",
    "* [Arrays](#arrays)\n",
    "\n",
    "### Objetivo de la sesión\n",
    "- Conocer los fundamentos del lenguaje de programación Python"
   ]
  },
  {
   "cell_type": "markdown",
   "id": "ab6d8428",
   "metadata": {},
   "source": [
    "<a id=\"variables\"></a>\n",
    "### Variables y constantes\n",
    "\n",
    "Una **variable** es un lugar donde almacenar un dato, tiene un nombre, un valor y un tipo.\n",
    "\n",
    "Una **constante** es un valor fijo que no puede ser alterado.\n",
    "\n",
    "\n",
    "![image info](./Figure/Variable1.png)"
   ]
  },
  {
   "cell_type": "markdown",
   "id": "b1a384b2",
   "metadata": {},
   "source": [
    "### Importante\n",
    "Nombrando Variables\n",
    "\n",
    "![image info](./Figure/iden.png)\n",
    "\n",
    "\n",
    "Un nombre de variable se denomina identificador y tiene que seguir algunas reglas:\n",
    "\n",
    " - Las variables pueden tener letras (A-Z y a-z), dígitos (0-9) y guiones bajos.\n",
    " - No puede comenzar con un guión bajo (_) o un dígito.\n",
    " - No puede tener espacios en blanco ni signos como + y -, !, @, $, #, %.\n",
    " - No puede ser una palabra clave reservada para Python.\n",
    " - Los nombres de variables distinguen entre mayúsculas y minúsculas.\n",
    " \n",
    "El nombre de una variable puede estar formado por letras, dígitos y guiones bajos, pero no puede comenzar con un guión bajo o un dígito. Tampoco puede usar espacios en blanco o los signos + y - en un nombre.\n",
    "\n",
    "Tomemos algunos ejemplos de nombres de variables válidos:\n",
    "\n",
    " - fraude1\n",
    " - Explotar_2\n",
    " - trabajo_del_diablo\n",
    "\n",
    "Estos nombres no son válidos:\n",
    "\n",
    " - pasivo agresivo\n",
    " - 21 mentiras\n",
    " - fals@s\n",
    " \n",
    " A mayor detalle: https://docs.python.org/es/3/tutorial/"
   ]
  },
  {
   "cell_type": "code",
   "execution_count": 2,
   "id": "964e788d",
   "metadata": {},
   "outputs": [
    {
     "name": "stdout",
     "output_type": "stream",
     "text": [
      "Juan Carlos <class 'str'>\n"
     ]
    }
   ],
   "source": [
    "nombre = 'Juan Carlos'\n",
    "print(nombre, type(nombre))"
   ]
  },
  {
   "cell_type": "code",
   "execution_count": 7,
   "id": "f9923bb8",
   "metadata": {},
   "outputs": [
    {
     "data": {
      "text/plain": [
       "9"
      ]
     },
     "execution_count": 7,
     "metadata": {},
     "output_type": "execute_result"
    }
   ],
   "source": [
    "nombre = 9\n",
    "nombre"
   ]
  },
  {
   "cell_type": "code",
   "execution_count": 9,
   "id": "1d23efa5",
   "metadata": {},
   "outputs": [
    {
     "data": {
      "text/plain": [
       "4.5"
      ]
     },
     "execution_count": 9,
     "metadata": {},
     "output_type": "execute_result"
    }
   ],
   "source": [
    "nombre = 4.5\n",
    "nombre"
   ]
  },
  {
   "cell_type": "markdown",
   "id": "9260825b",
   "metadata": {},
   "source": [
    "### Sintaxis"
   ]
  },
  {
   "cell_type": "code",
   "execution_count": 10,
   "id": "9af551ac",
   "metadata": {},
   "outputs": [
    {
     "data": {
      "text/plain": [
       "4"
      ]
     },
     "execution_count": 10,
     "metadata": {},
     "output_type": "execute_result"
    }
   ],
   "source": [
    "2 + 2"
   ]
  },
  {
   "cell_type": "code",
   "execution_count": 11,
   "id": "0969a2ce",
   "metadata": {},
   "outputs": [
    {
     "data": {
      "text/plain": [
       "10"
      ]
     },
     "execution_count": 11,
     "metadata": {},
     "output_type": "execute_result"
    }
   ],
   "source": [
    "x = 5\n",
    "y = 2\n",
    "x * y"
   ]
  },
  {
   "cell_type": "code",
   "execution_count": 12,
   "id": "83754756",
   "metadata": {},
   "outputs": [
    {
     "data": {
      "text/plain": [
       "25"
      ]
     },
     "execution_count": 12,
     "metadata": {},
     "output_type": "execute_result"
    }
   ],
   "source": [
    "x ** y"
   ]
  },
  {
   "cell_type": "code",
   "execution_count": 13,
   "id": "0d25397f",
   "metadata": {},
   "outputs": [
    {
     "name": "stdout",
     "output_type": "stream",
     "text": [
      "Hola Mundo\n"
     ]
    }
   ],
   "source": [
    "print('Hola Mundo')"
   ]
  },
  {
   "cell_type": "code",
   "execution_count": 15,
   "id": "14df911b",
   "metadata": {},
   "outputs": [
    {
     "name": "stdout",
     "output_type": "stream",
     "text": [
      "5 exponente 2 es igual a 25\n"
     ]
    }
   ],
   "source": [
    "print('%s exponente %s es igual a %s' % (x,y,x**y))"
   ]
  },
  {
   "cell_type": "markdown",
   "id": "8f2bf3be",
   "metadata": {},
   "source": [
    "### Tipos de Datos"
   ]
  },
  {
   "cell_type": "markdown",
   "id": "d39026b3",
   "metadata": {},
   "source": [
    "#### Booleanos\n",
    "\n",
    "'True' y 'False' tienen especial significado en Python.\n",
    "\n",
    "Enlace de consulta: https://www.mclibre.org/consultar/python/lecciones/python-booleanos.html#:~:text=Una%20variable%20booleana%20es%20una,considerarse%20como%20una%20variable%20booleana."
   ]
  },
  {
   "cell_type": "code",
   "execution_count": 29,
   "id": "1429df84",
   "metadata": {},
   "outputs": [
    {
     "data": {
      "text/plain": [
       "False"
      ]
     },
     "execution_count": 29,
     "metadata": {},
     "output_type": "execute_result"
    }
   ],
   "source": [
    "bool(0)"
   ]
  },
  {
   "cell_type": "code",
   "execution_count": 30,
   "id": "a3c03154",
   "metadata": {},
   "outputs": [
    {
     "data": {
      "text/plain": [
       "False"
      ]
     },
     "execution_count": 30,
     "metadata": {},
     "output_type": "execute_result"
    }
   ],
   "source": [
    "bool([])"
   ]
  },
  {
   "cell_type": "code",
   "execution_count": 31,
   "id": "ce50cadc",
   "metadata": {},
   "outputs": [
    {
     "data": {
      "text/plain": [
       "True"
      ]
     },
     "execution_count": 31,
     "metadata": {},
     "output_type": "execute_result"
    }
   ],
   "source": [
    "bool(25)"
   ]
  },
  {
   "cell_type": "code",
   "execution_count": 33,
   "id": "cf0da499",
   "metadata": {},
   "outputs": [
    {
     "data": {
      "text/plain": [
       "True"
      ]
     },
     "execution_count": 33,
     "metadata": {},
     "output_type": "execute_result"
    }
   ],
   "source": [
    "bool([27, \"octubre\", 1997])"
   ]
  },
  {
   "cell_type": "markdown",
   "id": "1d4188f9",
   "metadata": {},
   "source": [
    "**Operadores lógicos**"
   ]
  },
  {
   "cell_type": "code",
   "execution_count": 16,
   "id": "358cf2ab",
   "metadata": {},
   "outputs": [],
   "source": [
    "a = True\n",
    "b = False"
   ]
  },
  {
   "cell_type": "code",
   "execution_count": 17,
   "id": "591cb871",
   "metadata": {},
   "outputs": [
    {
     "data": {
      "text/plain": [
       "True"
      ]
     },
     "execution_count": 17,
     "metadata": {},
     "output_type": "execute_result"
    }
   ],
   "source": [
    "a == True"
   ]
  },
  {
   "cell_type": "code",
   "execution_count": 18,
   "id": "c805897c",
   "metadata": {},
   "outputs": [
    {
     "data": {
      "text/plain": [
       "False"
      ]
     },
     "execution_count": 18,
     "metadata": {},
     "output_type": "execute_result"
    }
   ],
   "source": [
    "b == True"
   ]
  },
  {
   "cell_type": "code",
   "execution_count": 19,
   "id": "6ef12ee4",
   "metadata": {},
   "outputs": [
    {
     "data": {
      "text/plain": [
       "True"
      ]
     },
     "execution_count": 19,
     "metadata": {},
     "output_type": "execute_result"
    }
   ],
   "source": [
    "a or b"
   ]
  },
  {
   "cell_type": "code",
   "execution_count": 20,
   "id": "13408e33",
   "metadata": {},
   "outputs": [
    {
     "data": {
      "text/plain": [
       "False"
      ]
     },
     "execution_count": 20,
     "metadata": {},
     "output_type": "execute_result"
    }
   ],
   "source": [
    "a and b"
   ]
  },
  {
   "cell_type": "code",
   "execution_count": 25,
   "id": "6da223cf",
   "metadata": {},
   "outputs": [
    {
     "data": {
      "text/plain": [
       "False"
      ]
     },
     "execution_count": 25,
     "metadata": {},
     "output_type": "execute_result"
    }
   ],
   "source": [
    "not a"
   ]
  },
  {
   "cell_type": "code",
   "execution_count": 26,
   "id": "11469b38",
   "metadata": {},
   "outputs": [
    {
     "data": {
      "text/plain": [
       "True"
      ]
     },
     "execution_count": 26,
     "metadata": {},
     "output_type": "execute_result"
    }
   ],
   "source": [
    "not b"
   ]
  },
  {
   "cell_type": "code",
   "execution_count": 27,
   "id": "fd0e6132",
   "metadata": {},
   "outputs": [
    {
     "data": {
      "text/plain": [
       "False"
      ]
     },
     "execution_count": 27,
     "metadata": {},
     "output_type": "execute_result"
    }
   ],
   "source": [
    "6 / 2 != 3"
   ]
  },
  {
   "cell_type": "code",
   "execution_count": 50,
   "id": "c8fc88d3",
   "metadata": {},
   "outputs": [
    {
     "name": "stdout",
     "output_type": "stream",
     "text": [
      "False\n",
      "True\n",
      "True\n",
      "False\n",
      "True\n",
      "False\n",
      "True\n",
      "False\n"
     ]
    }
   ],
   "source": [
    "# Igual a\n",
    "print(100 == 1)\n",
    "\n",
    "# Mayor igual que\n",
    "print(100 >= 1)\n",
    "print(5 < 10)\n",
    "\n",
    "#Equivalencia de string\n",
    "print('Intro to Python' == 'intro to python')\n",
    "print('Intro to Python' == 'Intro to Python')\n",
    "\n",
    "# mas expresiones\n",
    "print(100 == 100 and 50 == 100)\n",
    "print(100 == 100 or 50 == 100)\n",
    "\n",
    "# otros\n",
    "print(not 1 == 1)"
   ]
  },
  {
   "cell_type": "markdown",
   "id": "0cfbf5a8",
   "metadata": {},
   "source": [
    "#### Numeros: Interos y flotantes(reales)\n",
    "\n",
    "Los números son bastante sencillos, especialmente en Python 3."
   ]
  },
  {
   "cell_type": "markdown",
   "id": "d586627d",
   "metadata": {},
   "source": [
    "1 + 2"
   ]
  },
  {
   "cell_type": "code",
   "execution_count": 35,
   "id": "30f83d32",
   "metadata": {},
   "outputs": [
    {
     "data": {
      "text/plain": [
       "3.0"
      ]
     },
     "execution_count": 35,
     "metadata": {},
     "output_type": "execute_result"
    }
   ],
   "source": [
    "1.0 + 2.0"
   ]
  },
  {
   "cell_type": "code",
   "execution_count": 36,
   "id": "054f48f9",
   "metadata": {},
   "outputs": [
    {
     "data": {
      "text/plain": [
       "0.5"
      ]
     },
     "execution_count": 36,
     "metadata": {},
     "output_type": "execute_result"
    }
   ],
   "source": [
    "1 / 2"
   ]
  },
  {
   "cell_type": "code",
   "execution_count": 37,
   "id": "77ae8597",
   "metadata": {},
   "outputs": [
    {
     "data": {
      "text/plain": [
       "0.5"
      ]
     },
     "execution_count": 37,
     "metadata": {},
     "output_type": "execute_result"
    }
   ],
   "source": [
    "1.0 / 2.0"
   ]
  },
  {
   "cell_type": "code",
   "execution_count": 38,
   "id": "641d0fec",
   "metadata": {},
   "outputs": [
    {
     "data": {
      "text/plain": [
       "int"
      ]
     },
     "execution_count": 38,
     "metadata": {},
     "output_type": "execute_result"
    }
   ],
   "source": [
    "type(1)"
   ]
  },
  {
   "cell_type": "code",
   "execution_count": 39,
   "id": "6a1fabaf",
   "metadata": {},
   "outputs": [
    {
     "data": {
      "text/plain": [
       "float"
      ]
     },
     "execution_count": 39,
     "metadata": {},
     "output_type": "execute_result"
    }
   ],
   "source": [
    "type(1/2)"
   ]
  },
  {
   "cell_type": "markdown",
   "id": "414e53aa",
   "metadata": {},
   "source": [
    "### Reto para ustedes"
   ]
  },
  {
   "cell_type": "markdown",
   "id": "43c49c6c",
   "metadata": {},
   "source": [
    "1. Resuelva la siguiente operación haciendo uso de Python\n",
    "$$\\neg V\\wedge \\left[(F \\vee V) \\wedge\\neg F\\right]$$\n",
    "\n",
    "2. Resuelva la siguiente operación haciendo uso de Python\n",
    "$$6\\times \\frac{8}{7} + 8\\times (5^4 + \\frac{7}{3})$$"
   ]
  },
  {
   "cell_type": "markdown",
   "id": "64554c01",
   "metadata": {},
   "source": [
    "#### Listas\n",
    "\n",
    "Las listas son secuencias _mutables_ de cualquier cosa."
   ]
  },
  {
   "cell_type": "code",
   "execution_count": 42,
   "id": "75c4fab0",
   "metadata": {},
   "outputs": [],
   "source": [
    "l = [0, 1, 1, 2, 3, 5, 8]"
   ]
  },
  {
   "cell_type": "code",
   "execution_count": 43,
   "id": "d496d6dc",
   "metadata": {},
   "outputs": [],
   "source": [
    "m = [5, 2, 'a', 'xxx', True, [0, 1]]"
   ]
  },
  {
   "cell_type": "code",
   "execution_count": 44,
   "id": "68961957",
   "metadata": {},
   "outputs": [
    {
     "data": {
      "text/plain": [
       "[0, 1, 1]"
      ]
     },
     "execution_count": 44,
     "metadata": {},
     "output_type": "execute_result"
    }
   ],
   "source": [
    "l[0:3]"
   ]
  },
  {
   "cell_type": "code",
   "execution_count": 49,
   "id": "bdc57d4d",
   "metadata": {},
   "outputs": [
    {
     "data": {
      "text/plain": [
       "False"
      ]
     },
     "execution_count": 49,
     "metadata": {},
     "output_type": "execute_result"
    }
   ],
   "source": [
    "m[4]"
   ]
  },
  {
   "cell_type": "code",
   "execution_count": 46,
   "id": "e99d2c16",
   "metadata": {},
   "outputs": [],
   "source": [
    "m[4] = False"
   ]
  },
  {
   "cell_type": "code",
   "execution_count": 47,
   "id": "e0cccb43",
   "metadata": {},
   "outputs": [
    {
     "data": {
      "text/plain": [
       "[False, [0, 1]]"
      ]
     },
     "execution_count": 47,
     "metadata": {},
     "output_type": "execute_result"
    }
   ],
   "source": [
    "m[4:]"
   ]
  },
  {
   "cell_type": "code",
   "execution_count": null,
   "id": "090e8589",
   "metadata": {},
   "outputs": [],
   "source": []
  }
 ],
 "metadata": {
  "kernelspec": {
   "display_name": "Python 3 (ipykernel)",
   "language": "python",
   "name": "python3"
  },
  "language_info": {
   "codemirror_mode": {
    "name": "ipython",
    "version": 3
   },
   "file_extension": ".py",
   "mimetype": "text/x-python",
   "name": "python",
   "nbconvert_exporter": "python",
   "pygments_lexer": "ipython3",
   "version": "3.9.12"
  }
 },
 "nbformat": 4,
 "nbformat_minor": 5
}
